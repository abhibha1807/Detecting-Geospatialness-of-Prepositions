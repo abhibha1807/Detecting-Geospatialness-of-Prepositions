{
  "cells": [
    {
      "cell_type": "code",
      "execution_count": null,
      "metadata": {
        "id": "M3fVCOFc5g7S"
      },
      "outputs": [],
      "source": [
        "learner = load_learner('/content/',test=data_class)"
      ]
    },
    {
      "cell_type": "code",
      "execution_count": null,
      "metadata": {
        "id": "IE47FlVUU7Tb"
      },
      "outputs": [],
      "source": [
        "(learn_c.data.__class__)"
      ]
    },
    {
      "cell_type": "code",
      "execution_count": 1,
      "metadata": {
        "id": "Or_UNMp7NXBj"
      },
      "outputs": [],
      "source": [
        "import pickle\n",
        "import numpy as np\n",
        "import re\n",
        "import json"
      ]
    },
    {
      "cell_type": "code",
      "execution_count": null,
      "metadata": {
        "colab": {
          "base_uri": "https://localhost:8080/",
          "height": 306
        },
        "id": "hDfSwQSgasRM",
        "outputId": "96d96064-c9a6-4a5d-99b9-ca582bcbe424"
      },
      "outputs": [],
      "source": [
        "import pandas as pd\n",
        "df=pd.read_csv('/content/drive/My Drive/Colab Notebooks/wordemb_dataset.csv')\n",
        "df.head()"
      ]
    },
    {
      "cell_type": "code",
      "execution_count": null,
      "metadata": {
        "id": "gqETUs8VendI"
      },
      "outputs": [],
      "source": [
        "np.set_printoptions(precision=4, suppress=True)"
      ]
    },
    {
      "cell_type": "code",
      "execution_count": null,
      "metadata": {
        "id": "p-sKppT5ewuz"
      },
      "outputs": [],
      "source": [
        "!wget http://files.fast.ai/models/glove_50_glove_100.tgz "
      ]
    },
    {
      "cell_type": "code",
      "execution_count": null,
      "metadata": {
        "id": "3Wh9Lu-7e2e7"
      },
      "outputs": [],
      "source": [
        "!tar xvzf glove_50_glove_100.tgz"
      ]
    },
    {
      "cell_type": "code",
      "execution_count": null,
      "metadata": {
        "id": "ELXyIgpifD4s"
      },
      "outputs": [],
      "source": [
        "vecs = np.load(\"glove_vectors_100d.npy\")\n",
        "vecs50 = np.load(\"glove_vectors_50d.npy\")"
      ]
    },
    {
      "cell_type": "code",
      "execution_count": null,
      "metadata": {
        "id": "oLm4yFvQg5m9"
      },
      "outputs": [],
      "source": [
        "with open('words.txt') as f:\n",
        "    content = f.readlines()\n",
        "words = [x.strip() for x in content]"
      ]
    },
    {
      "cell_type": "code",
      "execution_count": null,
      "metadata": {
        "id": "TWWhb0-6g6rd"
      },
      "outputs": [],
      "source": [
        "import json\n",
        "wordidx = json.load(open('wordsidx.txt'))"
      ]
    },
    {
      "cell_type": "code",
      "execution_count": null,
      "metadata": {
        "id": "1IS3YcdQg7Bn"
      },
      "outputs": [],
      "source": [
        "\n",
        "X=[]\n",
        "for i in (list(df['instance'])):\n",
        "  sentence_vector=[]\n",
        "  try:\n",
        "    for word in i.split(' '):\n",
        "      if word == '':\n",
        "        continue\n",
        "      try:\n",
        "        sentence_vector.append(wordidx[word])\n",
        "      except:\n",
        "        pass\n",
        "  except:\n",
        "    pass\n",
        "  X.append((sentence_vector))"
      ]
    },
    {
      "cell_type": "code",
      "execution_count": null,
      "metadata": {
        "id": "9JNGD1UDGYMr"
      },
      "outputs": [],
      "source": [
        "from sklearn.model_selection import train_test_split\n",
        "X_train, X_test, y_train, y_test=train_test_split(X,(list(df['label exp 3'])),test_size=0.1)"
      ]
    },
    {
      "cell_type": "code",
      "execution_count": null,
      "metadata": {
        "id": "CJwy0ZRrPwsr"
      },
      "outputs": [],
      "source": [
        "idx=wordidx\n",
        "idx2word = {v: k for k, v in idx.items()}"
      ]
    },
    {
      "cell_type": "code",
      "execution_count": null,
      "metadata": {
        "id": "NtekaWg5L5x_"
      },
      "outputs": [],
      "source": [
        "vocab_size = 5000\n",
        "trn = [np.array([i if i<vocab_size-1 else vocab_size-1 for i in s]) for s in (X_train)]\n",
        "test = [np.array([i if i<vocab_size-1 else vocab_size-1 for i in s]) for s in (X_test)]"
      ]
    },
    {
      "cell_type": "code",
      "execution_count": null,
      "metadata": {
        "id": "mjD8EcDQM1ps"
      },
      "outputs": [],
      "source": [
        "lens = np.array([len(instance) for instance in trn])"
      ]
    },
    {
      "cell_type": "code",
      "execution_count": null,
      "metadata": {
        "id": "QCeWsVaEM2I_"
      },
      "outputs": [],
      "source": [
        "(lens.max(), lens.min(), lens.mean())"
      ]
    },
    {
      "cell_type": "code",
      "execution_count": null,
      "metadata": {
        "id": "cw7h-V-KLGMn"
      },
      "outputs": [],
      "source": [
        "from keras.preprocessing import sequence\n",
        "seq_len = 50\n",
        "try:\n",
        "  trn = sequence.pad_sequences(X_train, maxlen=seq_len, value=0)\n",
        "  test = sequence.pad_sequences(X_test, maxlen=seq_len, value=0)\n",
        "except:\n",
        "  pass"
      ]
    },
    {
      "cell_type": "code",
      "execution_count": null,
      "metadata": {
        "id": "bXAer7SaNcQY"
      },
      "outputs": [],
      "source": [
        "from keras.models import Sequential\n",
        "from keras.layers.embeddings import Embedding\n",
        "from keras.layers.core import Flatten, Dense, Dropout\n",
        "from keras.layers.convolutional import Convolution1D, MaxPooling1D\n",
        "from keras.optimizers import Adam"
      ]
    },
    {
      "cell_type": "code",
      "execution_count": null,
      "metadata": {
        "id": "DkWQmsOeNeiV"
      },
      "outputs": [],
      "source": [
        "conv1 = Sequential([\n",
        "    Embedding(vocab_size, 50, input_length=seq_len, dropout=0.4),\n",
        "    Convolution1D(64, 5, border_mode='same', activation='relu'),\n",
        "    Dropout(0.2),\n",
        "    MaxPooling1D(),\n",
        "    Flatten(),\n",
        "    Dense(100, activation='relu'),\n",
        "    Dropout(0.5),\n",
        "    Dense(1, activation='sigmoid')])"
      ]
    },
    {
      "cell_type": "code",
      "execution_count": null,
      "metadata": {
        "id": "u_lYGlrsNhiA"
      },
      "outputs": [],
      "source": [
        "conv1.compile(loss='binary_crossentropy', optimizer=Adam(), metrics=['accuracy'])"
      ]
    },
    {
      "cell_type": "code",
      "execution_count": null,
      "metadata": {
        "id": "R_7Z_ixCNkpe"
      },
      "outputs": [],
      "source": [
        "conv1.fit(trn, y_train, validation_data=(test, y_test), nb_epoch=4, batch_size=64)"
      ]
    },
    {
      "cell_type": "code",
      "execution_count": null,
      "metadata": {
        "id": "cGAzj-suNmXl"
      },
      "outputs": [],
      "source": [
        "conv1.optimizer.lr=1e-4"
      ]
    },
    {
      "cell_type": "code",
      "execution_count": null,
      "metadata": {
        "id": "Vog0TD08DJJ-"
      },
      "outputs": [],
      "source": [
        "conv1.fit(trn, y_train, validation_data=(test, y_test), nb_epoch=4, batch_size=64)"
      ]
    },
    {
      "cell_type": "code",
      "execution_count": null,
      "metadata": {
        "id": "A_NDfmk_DLBg"
      },
      "outputs": [],
      "source": [
        "def create_emb():\n",
        "    n_fact = vecs50.shape[1]\n",
        "    emb = np.zeros((vocab_size, n_fact))\n",
        "\n",
        "    for i in range(1,len(emb)):\n",
        "        word = idx2word[i]\n",
        "        if word and re.match(r\"^[a-zA-Z0-9\\-]*$\", word):\n",
        "            src_idx = wordidx[word]\n",
        "            emb[i] = vecs50[src_idx]\n",
        "        else:\n",
        "            # If we can't find the word in glove, randomly initialize\n",
        "            emb[i] = np.random.normal(scale=0.6, size=(n_fact,))\n",
        "\n",
        "    # This is our \"rare word\" id - we want to randomly initialize\n",
        "    emb[-1] = np.random.normal(scale=0.6, size=(n_fact,))\n",
        "    emb/=3\n",
        "    return emb"
      ]
    },
    {
      "cell_type": "code",
      "execution_count": null,
      "metadata": {
        "id": "DUEpBWca8OZB"
      },
      "outputs": [],
      "source": [
        "emb = create_emb()"
      ]
    },
    {
      "cell_type": "code",
      "execution_count": null,
      "metadata": {
        "id": "xeahbE729Gm-"
      },
      "outputs": [],
      "source": [
        "model = Sequential([\n",
        "    Embedding(vocab_size, 50, input_length=seq_len, dropout=0.4, weights=[emb]),\n",
        "    Convolution1D(64, 5, border_mode='same', activation='relu'),\n",
        "    Dropout(0.2),\n",
        "    MaxPooling1D(),\n",
        "    Flatten(),\n",
        "    Dense(100, activation='relu'),\n",
        "    Dropout(0.5),\n",
        "    Dense(1, activation='sigmoid')])"
      ]
    },
    {
      "cell_type": "code",
      "execution_count": null,
      "metadata": {
        "id": "C-fsiRdg9Qfq"
      },
      "outputs": [],
      "source": [
        "model.compile(loss='binary_crossentropy', optimizer=Adam(), metrics=['accuracy'])"
      ]
    },
    {
      "cell_type": "code",
      "execution_count": null,
      "metadata": {
        "id": "l_irj52T9Stw"
      },
      "outputs": [],
      "source": [
        "model.fit(trn, y_train, validation_data=(test, y_test), nb_epoch=4, batch_size=64)"
      ]
    },
    {
      "cell_type": "code",
      "execution_count": 7,
      "metadata": {
        "id": "T_N1Tn7Th2Jx"
      },
      "outputs": [],
      "source": [
        "%reload_ext autoreload\n",
        "%autoreload 2\n",
        "%matplotlib inline\n",
        "from fastai import *\n",
        "from fastai.text import *\n",
        "from scipy.spatial.distance import cosine as dist"
      ]
    },
    {
      "cell_type": "code",
      "execution_count": 5,
      "metadata": {
        "id": "McEmpStkdMm5"
      },
      "outputs": [],
      "source": [
        "import pandas as pd\n",
        "df=pd.read_csv('/content/drive/My Drive/Colab Notebooks/wordemb_dataset.csv')"
      ]
    },
    {
      "cell_type": "code",
      "execution_count": null,
      "metadata": {
        "colab": {
          "base_uri": "https://localhost:8080/",
          "height": 306
        },
        "id": "OkgWft0Dqn5X",
        "outputId": "9135a97b-0b0c-4090-be85-fadba63b02a5"
      },
      "outputs": [],
      "source": [
        "df.head()"
      ]
    },
    {
      "cell_type": "code",
      "execution_count": 8,
      "metadata": {
        "id": "T0M2xCaT0Fw8"
      },
      "outputs": [],
      "source": [
        "# remove 'na' fields\n",
        "df = df[df['instance'].notna()]\n",
        "df = df[df['label exp 2'].notna()]"
      ]
    },
    {
      "cell_type": "code",
      "execution_count": 9,
      "metadata": {
        "colab": {
          "base_uri": "https://localhost:8080/",
          "height": 34
        },
        "id": "T3zl8t6byO_8",
        "outputId": "205df6aa-a3a0-467c-c3fd-290220bdf7c5"
      },
      "outputs": [
        {
          "data": {
            "text/plain": [
              "(1882, 16934)"
            ]
          },
          "execution_count": 9,
          "metadata": {
            "tags": []
          },
          "output_type": "execute_result"
        }
      ],
      "source": [
        "# splitting into train test sets\n",
        "test_df=df[16934:].copy()\n",
        "train_df=df[:16934].copy()\n",
        "len(test_df),len(train_df)"
      ]
    },
    {
      "cell_type": "code",
      "execution_count": null,
      "metadata": {
        "colab": {
          "base_uri": "https://localhost:8080/",
          "height": 496
        },
        "id": "-1HNwrW49UH8",
        "outputId": "a3289ff8-9dba-4138-947d-1112fa32cb56"
      },
      "outputs": [],
      "source": [
        "from fastai.text import * \n",
        "# after tokenisation\n",
        "data_lm = (TextList.from_df(df, cols='instance')\n",
        "                .split_by_rand_pct(0.1)\n",
        "                .label_for_lm()  \n",
        "                .databunch(bs=48))\n",
        "data_lm.show_batch()"
      ]
    },
    {
      "cell_type": "code",
      "execution_count": null,
      "metadata": {
        "colab": {
          "base_uri": "https://localhost:8080/",
          "height": 34
        },
        "id": "CB0_ofWA-Ive",
        "outputId": "09f865e8-e46e-4743-db42-3570f53e842e"
      },
      "outputs": [],
      "source": [
        "learn = language_model_learner(data_lm, AWD_LSTM, drop_mult=0.5).to_fp16()"
      ]
    },
    {
      "cell_type": "markdown",
      "metadata": {
        "id": "FsH-k1OodxL3"
      },
      "source": [
        "drop_mult , a hyper-parameter ,used for regularization, sets the amount of dropout. If the model is over-fitting increase it, if under-fitting, you can decrease the number."
      ]
    },
    {
      "cell_type": "code",
      "execution_count": null,
      "metadata": {
        "colab": {
          "base_uri": "https://localhost:8080/",
          "height": 143
        },
        "id": "n1FAY5wYAyy5",
        "outputId": "14f05197-8a4c-4372-e2f6-6d214f5d18c4"
      },
      "outputs": [],
      "source": [
        "learn.lr_find()"
      ]
    },
    {
      "cell_type": "code",
      "execution_count": null,
      "metadata": {
        "colab": {
          "base_uri": "https://localhost:8080/",
          "height": 282
        },
        "id": "fg9UQTOjA1f_",
        "outputId": "ba1ab016-27c4-476f-d740-67c89ad49b3b"
      },
      "outputs": [],
      "source": [
        "learn.recorder.plot(skip_end=15)"
      ]
    },
    {
      "cell_type": "markdown",
      "metadata": {
        "id": "fqKR-9eRd7Kt"
      },
      "source": [
        "Learning rate hyper-parameter is one of the most important parameters to train a model. Fast.ai provides a convenient utility (learn.lr_find) to search through a range of learning rates to find the optimum one for our dataset. Learning rate finder will increase the learning rate after each mini-batch. Eventually, the learning rate is too high that loss will get worse. Now look at the plot of learning rate against loss and determine the lowest point (around 1e-1 for the plot below) and go back by one magnitude and choose that as a learning rate (something around 1e-2)."
      ]
    },
    {
      "cell_type": "code",
      "execution_count": 16,
      "metadata": {
        "id": "bECNiwp2A3l0"
      },
      "outputs": [],
      "source": [
        "#define batch size and learning rate\n",
        "bs=48\n",
        "lr = 2e-02\n",
        "lr *= bs/20"
      ]
    },
    {
      "cell_type": "code",
      "execution_count": null,
      "metadata": {
        "colab": {
          "base_uri": "https://localhost:8080/",
          "height": 80
        },
        "id": "GgO1tRGvA-_1",
        "outputId": "a7b09ca6-7fd2-4b4e-f338-ee10dbd6d6f2"
      },
      "outputs": [],
      "source": [
        "# fit the classifier for one cycle\n",
        "learn.fit_one_cycle(1, lr, moms=(0.8,0.7))"
      ]
    },
    {
      "cell_type": "code",
      "execution_count": null,
      "metadata": {
        "colab": {
          "base_uri": "https://localhost:8080/",
          "height": 1000
        },
        "id": "ddgTb3tiBCN3",
        "outputId": "3e78a0a2-ba84-4ced-c7d1-188fd65ae307"
      },
      "outputs": [],
      "source": [
        "# unfreeze all layers and then train some more\n",
        "learn.unfreeze()\n",
        "learn.fit_one_cycle(1, lr/10, moms=(0.8,0.7))"
      ]
    },
    {
      "cell_type": "code",
      "execution_count": 20,
      "metadata": {
        "id": "2Sj4G9jsBQqt"
      },
      "outputs": [],
      "source": [
        "# save the encoder and vocab\n",
        "learn.save('fine_tuned_10')\n",
        "learn.save_encoder('fine_tuned_enc_10')"
      ]
    },
    {
      "cell_type": "markdown",
      "metadata": {
        "id": "pWcweo5QQ1R2"
      },
      "source": [
        "## Classification Phase"
      ]
    },
    {
      "cell_type": "code",
      "execution_count": null,
      "metadata": {
        "colab": {
          "base_uri": "https://localhost:8080/",
          "height": 204
        },
        "id": "bsSumeM6BuaU",
        "outputId": "e7be47ef-1670-4597-e8c5-4bbc60594b95"
      },
      "outputs": [],
      "source": [
        "# define dataset for classification \n",
        "data_clas = (TextList.from_df(train_df, cols=['instance'], vocab=data_lm.vocab)\n",
        "             .split_by_rand_pct(0.1)\n",
        "             .label_from_df(cols= 'label exp 2')\n",
        "             .databunch(bs=48))\n",
        "\n",
        "data_clas.show_batch()"
      ]
    },
    {
      "cell_type": "code",
      "execution_count": 21,
      "metadata": {
        "id": "_Fz1Lf0XGKgu"
      },
      "outputs": [],
      "source": [
        "from sklearn.metrics import f1_score\n",
        "\n",
        "@np_func\n",
        "def f1(inp,targ): return f1_score(targ, np.argmax(inp, axis=-1))"
      ]
    },
    {
      "cell_type": "code",
      "execution_count": 23,
      "metadata": {
        "id": "EfgHr9FLB7-Q"
      },
      "outputs": [],
      "source": [
        "#initialising classifier\n",
        "learn_c = text_classifier_learner(data_clas, AWD_LSTM, drop_mult=0.5,metrics=[accuracy]).to_fp16()\n",
        "learn_c.load_encoder('fine_tuned_enc_10')\n",
        "learn_c.freeze()"
      ]
    },
    {
      "cell_type": "code",
      "execution_count": null,
      "metadata": {
        "colab": {
          "base_uri": "https://localhost:8080/",
          "height": 112
        },
        "id": "Ewe8ZEoFCMnx",
        "outputId": "3521de2b-e1ed-437e-9f75-d7dfd231fa35"
      },
      "outputs": [],
      "source": [
        "learn_c.lr_find()"
      ]
    },
    {
      "cell_type": "code",
      "execution_count": null,
      "metadata": {
        "colab": {
          "base_uri": "https://localhost:8080/",
          "height": 279
        },
        "id": "uae5qCUqCY4B",
        "outputId": "fcbafb3b-9174-41fa-b920-55596b9a0121"
      },
      "outputs": [],
      "source": [
        "learn_c.recorder.plot(skip_end=15)"
      ]
    },
    {
      "cell_type": "code",
      "execution_count": 26,
      "metadata": {
        "id": "iaxKXbnoCbo3"
      },
      "outputs": [],
      "source": [
        "lr=2e-2"
      ]
    },
    {
      "cell_type": "code",
      "execution_count": 27,
      "metadata": {
        "colab": {
          "base_uri": "https://localhost:8080/",
          "height": 142
        },
        "id": "C_wrbz7mCf07",
        "outputId": "8f99a3c4-0d65-4bb5-a249-20c7f43c8077"
      },
      "outputs": [
        {
          "data": {
            "text/html": [
              "<table border=\"1\" class=\"dataframe\">\n",
              "  <thead>\n",
              "    <tr style=\"text-align: left;\">\n",
              "      <th>epoch</th>\n",
              "      <th>train_loss</th>\n",
              "      <th>valid_loss</th>\n",
              "      <th>accuracy</th>\n",
              "      <th>time</th>\n",
              "    </tr>\n",
              "  </thead>\n",
              "  <tbody>\n",
              "    <tr>\n",
              "      <td>0</td>\n",
              "      <td>0.179184</td>\n",
              "      <td>0.139875</td>\n",
              "      <td>0.558771</td>\n",
              "      <td>00:11</td>\n",
              "    </tr>\n",
              "    <tr>\n",
              "      <td>1</td>\n",
              "      <td>0.161983</td>\n",
              "      <td>0.137049</td>\n",
              "      <td>0.558771</td>\n",
              "      <td>00:11</td>\n",
              "    </tr>\n",
              "    <tr>\n",
              "      <td>2</td>\n",
              "      <td>0.155700</td>\n",
              "      <td>0.132537</td>\n",
              "      <td>0.558771</td>\n",
              "      <td>00:11</td>\n",
              "    </tr>\n",
              "  </tbody>\n",
              "</table>"
            ],
            "text/plain": [
              "<IPython.core.display.HTML object>"
            ]
          },
          "metadata": {
            "tags": []
          },
          "output_type": "display_data"
        }
      ],
      "source": [
        "learn_c.fit_one_cycle(3,lr, moms=(0.8,0.7))"
      ]
    },
    {
      "cell_type": "code",
      "execution_count": null,
      "metadata": {
        "colab": {
          "base_uri": "https://localhost:8080/",
          "height": 279
        },
        "id": "FmVK-Klif7HX",
        "outputId": "593a200b-949b-47f5-e51f-34577ed6776a"
      },
      "outputs": [],
      "source": [
        "learn_c.recorder.plot_losses()"
      ]
    },
    {
      "cell_type": "code",
      "execution_count": null,
      "metadata": {
        "colab": {
          "base_uri": "https://localhost:8080/",
          "height": 279
        },
        "id": "DvvWWf7IgKvZ",
        "outputId": "7048bf00-576b-410f-a5da-42ae029d0d98"
      },
      "outputs": [],
      "source": [
        "learn_c.recorder.plot_lr(show_moms=True)"
      ]
    },
    {
      "cell_type": "code",
      "execution_count": null,
      "metadata": {
        "colab": {
          "base_uri": "https://localhost:8080/",
          "height": 1000
        },
        "id": "PwggjnrkrUXq",
        "outputId": "90c8de9e-0e1e-44c5-d117-da9d6dc13b2e"
      },
      "outputs": [],
      "source": [
        "learn_c.unfreeze()\n",
        "learn_c.fit_one_cycle(1, slice(lr/10/(2.6**4),lr/10), moms=(0.8,0.7))"
      ]
    },
    {
      "cell_type": "markdown",
      "metadata": {
        "id": "8uLBMMSYXmOv"
      },
      "source": [
        "### Notes"
      ]
    },
    {
      "cell_type": "markdown",
      "metadata": {
        "id": "Nbr02KPZLPC9"
      },
      "source": [
        "The loss curve seems going down smoothly (not in this case) and has not reached saturation point yet. fastai calculates the exponentially weighted moving average of the losses thus makes it easier to read these charts [by making the curve smoother] at the same time it might be a batch or two behind where they should be."
      ]
    },
    {
      "cell_type": "markdown",
      "metadata": {
        "id": "iDAPRB_zK2CU"
      },
      "source": [
        "When we call fit_one_cycle, we are actually passing in a maximum learning rate. The left side plot shows learning rate change vs the batches. The learning starts slow and it increases about half the time and then it decreases about half the time. As you get close to the final answer you need to anneal your learning rate to hone in on it. The motivation behind this is that during the middle of learning when learning rate is higher, the learning rate works as regularization method and keep network from over-fitting. This helps the network to avoid steep areas of loss and land better flatter minima. Please refer to this paper by Leslie smith which talks in great detail about neural network hyper-parameter tuning and you can find most of these ideas implemented in fastai."
      ]
    },
    {
      "cell_type": "markdown",
      "metadata": {
        "id": "__-WMMpnci50"
      },
      "source": [
        "If the training loss is still higher than the validation loss then we are not over-fitting yet"
      ]
    },
    {
      "cell_type": "markdown",
      "metadata": {
        "id": "wAkVdPon6608"
      },
      "source": [
        "Since get_preds gets predictions on all the data in the ds_type dataset, here the number of predictions will be equal to the number of data in the validation dataset."
      ]
    },
    {
      "cell_type": "markdown",
      "metadata": {
        "id": "fDDE4lhaLAXs"
      },
      "source": [
        "Discriminative learning rates: Applying different learning rate to layers as you go from layer to layer. When fitting a model you can pass a list of learning rates which will apply a different rate to each layer group. When working with a Learner on which you've called split, you can set hyper-parameters in four ways:\n",
        "\n",
        "* param = [val1, val2 ..., valn] (n = number of layer groups)\n",
        "* param = val\n",
        "* param = slice(start,end)\n",
        "* param = slice(end)\n",
        "\n",
        "If we chose to set it in way 1, we must specify a number of values exactly equal to the number of layer groups. If we chose to set it in way 2, the chosen value will be repeated for all layer groups. If you pass slice(start,end) then the first group's learning rate is start, the last is end, and the remaining are evenly spaced.\n",
        "If you pass just slice(end) then the last group's learning rate is end, and all the other groups are end/10. For instance (for our learner that has 3 layer groups):"
      ]
    },
    {
      "cell_type": "markdown",
      "metadata": {
        "id": "qbYJb9f8LJbW"
      },
      "source": [
        "The bottom of the slice and the top of the slice is the difference between how quickly the lowest layer of the model learns versus the highest layer of the model learns. As you go from layer to layer, we decrease the learning rate. The lowest levels are given smaller learning rates so as not to disturb the weights much."
      ]
    },
    {
      "cell_type": "markdown",
      "metadata": {
        "id": "cnmaLQmusHeE"
      },
      "source": [
        "The first two elements of the tuple are, respectively, the predicted class and label. Label here is essentially an internal representation of each class, since class name is a string and cannot be used in computation. To check what each label corresponds to, run:"
      ]
    },
    {
      "cell_type": "code",
      "execution_count": 48,
      "metadata": {
        "id": "xr5WryK8TmRt"
      },
      "outputs": [],
      "source": [
        "y_true=list(test_df['label exp 2'])\n",
        "del test_df['label exp 2']"
      ]
    },
    {
      "cell_type": "code",
      "execution_count": null,
      "metadata": {
        "id": "qiGBl3Uu5g32"
      },
      "outputs": [],
      "source": [
        "y_pred=[]\n",
        "for i in range(len(test_df)):\n",
        "  p=learn_c.predict(test_df.iloc[i])\n",
        "  if (float((p[0]).data[0]))<0.5:\n",
        "    y_pred.append(0.0)\n",
        "  else:\n",
        "    y_pred.append(1.0)"
      ]
    },
    {
      "cell_type": "code",
      "execution_count": null,
      "metadata": {
        "colab": {
          "base_uri": "https://localhost:8080/",
          "height": 170
        },
        "id": "6A0iStbcWhr6",
        "outputId": "f5923a12-f4e6-4f09-a74c-605c0eeb643c"
      },
      "outputs": [],
      "source": [
        "import sklearn\n",
        "from sklearn.metrics import classification_report\n",
        "print(sklearn.metrics.classification_report(y_true, y_pred))"
      ]
    },
    {
      "cell_type": "markdown",
      "metadata": {
        "id": "Kqtxa8sj36UD"
      },
      "source": [
        "# Backward\n"
      ]
    },
    {
      "cell_type": "code",
      "execution_count": null,
      "metadata": {
        "colab": {
          "base_uri": "https://localhost:8080/",
          "height": 442
        },
        "id": "o-wMjj7u3QKh",
        "outputId": "332233c4-00c9-4263-a9a2-7b564d9320e4"
      },
      "outputs": [],
      "source": [
        "from fastai.text import * \n",
        "\n",
        "data_lm_bwd = (TextList.from_df(df, cols='instance')\n",
        "                .split_by_rand_pct(0.1)\n",
        "                .label_for_lm()  \n",
        "                .databunch(bs=48,backwards=True))\n",
        "data_lm_bwd.show_batch()"
      ]
    },
    {
      "cell_type": "code",
      "execution_count": null,
      "metadata": {
        "colab": {
          "base_uri": "https://localhost:8080/",
          "height": 34
        },
        "id": "D-JzgACB3QUv",
        "outputId": "8091699a-9425-4d63-c878-c50b703f4806"
      },
      "outputs": [],
      "source": [
        "learn_bwd = language_model_learner(data_lm_bwd, AWD_LSTM, drop_mult=0.5).to_fp16()"
      ]
    },
    {
      "cell_type": "code",
      "execution_count": null,
      "metadata": {
        "colab": {
          "base_uri": "https://localhost:8080/",
          "height": 143
        },
        "id": "xvgO_eUO3Qd2",
        "outputId": "84511c33-3ade-41da-8d2f-276599114f01"
      },
      "outputs": [],
      "source": [
        "learn_bwd.lr_find()"
      ]
    },
    {
      "cell_type": "code",
      "execution_count": null,
      "metadata": {
        "colab": {
          "base_uri": "https://localhost:8080/",
          "height": 279
        },
        "id": "Ktw3Npff3Qbr",
        "outputId": "74472207-72f9-4bc2-e759-8307c25a192b"
      },
      "outputs": [],
      "source": [
        "learn_bwd.recorder.plot()"
      ]
    },
    {
      "cell_type": "code",
      "execution_count": 58,
      "metadata": {
        "id": "J6_Y5MeV3QZ8"
      },
      "outputs": [],
      "source": [
        "bs=48\n",
        "lr_bwd = 2e-02\n",
        "# lr_bwd *= bs/20"
      ]
    },
    {
      "cell_type": "code",
      "execution_count": null,
      "metadata": {
        "colab": {
          "base_uri": "https://localhost:8080/",
          "height": 80
        },
        "id": "NuCo94ndraYm",
        "outputId": "6be6150a-011b-4260-fd0d-c212a92cb6d7"
      },
      "outputs": [],
      "source": [
        "learn_bwd.fit_one_cycle(1, lr_bwd, moms=(0.8,0.7))"
      ]
    },
    {
      "cell_type": "code",
      "execution_count": null,
      "metadata": {
        "colab": {
          "base_uri": "https://localhost:8080/",
          "height": 1000
        },
        "id": "oA4FTBuEra49",
        "outputId": "ec80cfd6-b462-491b-e846-1f107f238ef9"
      },
      "outputs": [],
      "source": [
        "learn_bwd.unfreeze()\n",
        "learn_bwd.fit_one_cycle(1, lr_bwd/10, moms=(0.8,0.7))"
      ]
    },
    {
      "cell_type": "code",
      "execution_count": 62,
      "metadata": {
        "id": "QYm1rNyFra0l"
      },
      "outputs": [],
      "source": [
        "learn_bwd.save('fine_tuned_bwd')\n",
        "learn_bwd.save_encoder('fine_tuned_enc_bwd')"
      ]
    },
    {
      "cell_type": "code",
      "execution_count": null,
      "metadata": {
        "colab": {
          "base_uri": "https://localhost:8080/",
          "height": 34
        },
        "id": "yh91TZGcsN6n",
        "outputId": "04b2c3c6-c35c-4bf5-b323-9497afa46d27"
      },
      "outputs": [],
      "source": [
        "test_df=df[16934:].copy()\n",
        "train_df=df[:16934].copy()\n",
        "len(test_df),len(train_df)"
      ]
    },
    {
      "cell_type": "code",
      "execution_count": null,
      "metadata": {
        "colab": {
          "base_uri": "https://localhost:8080/",
          "height": 204
        },
        "id": "x6-KXpuksN2V",
        "outputId": "fb24b37c-d3f3-4b74-de44-c6d6cc91f8df"
      },
      "outputs": [],
      "source": [
        "data_clas_bwd = (TextList.from_df(train_df, cols=['instance'], vocab=data_lm_bwd.vocab)\n",
        "             .split_by_rand_pct(0.1)\n",
        "             .label_from_df(cols= 'label exp 2')\n",
        "             .databunch(bs=48,backwards=True))\n",
        "\n",
        "data_clas_bwd.show_batch()"
      ]
    },
    {
      "cell_type": "code",
      "execution_count": 65,
      "metadata": {
        "id": "nc1u3VQFtEy4"
      },
      "outputs": [],
      "source": [
        "learn_c_bwd = text_classifier_learner(data_clas_bwd, AWD_LSTM, drop_mult=1.0,metrics=[accuracy]).to_fp16()\n",
        "learn_c_bwd.load_encoder('fine_tuned_enc_bwd')\n",
        "learn_c_bwd.freeze()"
      ]
    },
    {
      "cell_type": "code",
      "execution_count": null,
      "metadata": {
        "colab": {
          "base_uri": "https://localhost:8080/",
          "height": 112
        },
        "id": "mAb4lm5mtE-g",
        "outputId": "731a9024-ea4d-427c-8adb-33c8cf8f10c2"
      },
      "outputs": [],
      "source": [
        "learn_c_bwd.lr_find()"
      ]
    },
    {
      "cell_type": "code",
      "execution_count": null,
      "metadata": {
        "colab": {
          "base_uri": "https://localhost:8080/",
          "height": 279
        },
        "id": "QVxFbQ0QtEuC",
        "outputId": "d013e271-d36d-4c26-c60b-21baafe7491c"
      },
      "outputs": [],
      "source": [
        "learn_c_bwd.recorder.plot()"
      ]
    },
    {
      "cell_type": "code",
      "execution_count": 68,
      "metadata": {
        "id": "Ea6u_6ZuxcPW"
      },
      "outputs": [],
      "source": [
        "bs=48\n",
        "lr_bwd = 1e-02\n",
        "lr_bwd *= bs/20"
      ]
    },
    {
      "cell_type": "code",
      "execution_count": 69,
      "metadata": {
        "colab": {
          "base_uri": "https://localhost:8080/",
          "height": 80
        },
        "id": "UHGt2rs5tEmY",
        "outputId": "4e8b43c2-f382-4936-f29b-85bb8f0ba962"
      },
      "outputs": [
        {
          "data": {
            "text/html": [
              "<table border=\"1\" class=\"dataframe\">\n",
              "  <thead>\n",
              "    <tr style=\"text-align: left;\">\n",
              "      <th>epoch</th>\n",
              "      <th>train_loss</th>\n",
              "      <th>valid_loss</th>\n",
              "      <th>accuracy</th>\n",
              "      <th>time</th>\n",
              "    </tr>\n",
              "  </thead>\n",
              "  <tbody>\n",
              "    <tr>\n",
              "      <td>0</td>\n",
              "      <td>0.199052</td>\n",
              "      <td>0.153910</td>\n",
              "      <td>0.561725</td>\n",
              "      <td>00:11</td>\n",
              "    </tr>\n",
              "  </tbody>\n",
              "</table>"
            ],
            "text/plain": [
              "<IPython.core.display.HTML object>"
            ]
          },
          "metadata": {
            "tags": []
          },
          "output_type": "display_data"
        }
      ],
      "source": [
        "learn_c_bwd.fit_one_cycle(1,lr, moms=(0.8,0.7))"
      ]
    },
    {
      "cell_type": "code",
      "execution_count": null,
      "metadata": {
        "colab": {
          "base_uri": "https://localhost:8080/",
          "height": 1000
        },
        "id": "MFBdq6UTxkDP",
        "outputId": "42ee1af4-d047-4aa6-fc51-b5f8a5799cec"
      },
      "outputs": [],
      "source": [
        "learn_c_bwd.unfreeze()\n",
        "learn_c_bwd.fit_one_cycle(1, slice(lr_bwd/2,lr_bwd), moms=(0.5,0.7))"
      ]
    },
    {
      "cell_type": "code",
      "execution_count": 72,
      "metadata": {
        "id": "_z8ap_3myiji"
      },
      "outputs": [],
      "source": [
        "learn_c_bwd.save('learner_bwd')"
      ]
    },
    {
      "cell_type": "code",
      "execution_count": 73,
      "metadata": {
        "colab": {
          "base_uri": "https://localhost:8080/",
          "height": 34
        },
        "id": "j9zYuVwQyi-Q",
        "outputId": "fe0cdae9-c86e-431b-b2ec-25c54969bad2"
      },
      "outputs": [
        {
          "data": {
            "text/html": [],
            "text/plain": [
              "<IPython.core.display.HTML object>"
            ]
          },
          "metadata": {
            "tags": []
          },
          "output_type": "display_data"
        },
        {
          "data": {
            "text/plain": [
              "tensor(0.5588)"
            ]
          },
          "execution_count": 73,
          "metadata": {
            "tags": []
          },
          "output_type": "execute_result"
        }
      ],
      "source": [
        "preds,targs = learn_c.get_preds(ordered=True)\n",
        "accuracy(preds,targs)"
      ]
    },
    {
      "cell_type": "code",
      "execution_count": 74,
      "metadata": {
        "colab": {
          "base_uri": "https://localhost:8080/",
          "height": 34
        },
        "id": "ijSZxE_FzTJw",
        "outputId": "7959cc4e-8ad2-45a7-ca93-7243417d5913"
      },
      "outputs": [
        {
          "data": {
            "text/html": [],
            "text/plain": [
              "<IPython.core.display.HTML object>"
            ]
          },
          "metadata": {
            "tags": []
          },
          "output_type": "display_data"
        },
        {
          "data": {
            "text/plain": [
              "tensor(0.5617)"
            ]
          },
          "execution_count": 74,
          "metadata": {
            "tags": []
          },
          "output_type": "execute_result"
        }
      ],
      "source": [
        "preds_b,targs_b = learn_c_bwd.get_preds(ordered=True)\n",
        "accuracy(preds_b,targs_b)"
      ]
    },
    {
      "cell_type": "code",
      "execution_count": 75,
      "metadata": {
        "id": "X4aUX3EdzTap"
      },
      "outputs": [],
      "source": [
        "preds_avg = (preds+preds_b)/2"
      ]
    },
    {
      "cell_type": "code",
      "execution_count": 76,
      "metadata": {
        "colab": {
          "base_uri": "https://localhost:8080/",
          "height": 34
        },
        "id": "3DIuCDOdzsen",
        "outputId": "681bc5cf-73d2-423c-d5b7-13da5e117dba"
      },
      "outputs": [
        {
          "data": {
            "text/plain": [
              "tensor(0.5617)"
            ]
          },
          "execution_count": 76,
          "metadata": {
            "tags": []
          },
          "output_type": "execute_result"
        }
      ],
      "source": [
        "# average accuracy \n",
        "accuracy(preds_avg,targs_b)"
      ]
    },
    {
      "cell_type": "code",
      "execution_count": 79,
      "metadata": {
        "id": "xaXwktduacnt"
      },
      "outputs": [],
      "source": [
        "y_true=test_df['label exp 2']"
      ]
    },
    {
      "cell_type": "code",
      "execution_count": null,
      "metadata": {
        "id": "DKwbCUoYzsob"
      },
      "outputs": [],
      "source": [
        "forward_prob=[]\n",
        "for i in range(len(test_df)):\n",
        "  p=learn_c.predict(test_df.iloc[i])\n",
        "  forward_prob.append(float((p[0]).data[0]))\n"
      ]
    },
    {
      "cell_type": "code",
      "execution_count": 82,
      "metadata": {
        "id": "ty3DFgA90RmF"
      },
      "outputs": [],
      "source": [
        "bwd_prob=[]\n",
        "for i in range(len(test_df)):\n",
        "  p=learn_c_bwd.predict(test_df.iloc[i])\n",
        "  bwd_prob.append(float((p[0]).data[0]))"
      ]
    },
    {
      "cell_type": "code",
      "execution_count": 83,
      "metadata": {
        "id": "jxX0vXUl0xV7"
      },
      "outputs": [],
      "source": [
        "\n",
        "y_pred=[]\n",
        "for i in range(len(my)):\n",
        "  if (float((forward_prob[i]+bwd_prob[i])/2))>0.5:\n",
        "    y_pred.append(1.0)\n",
        "  else:\n",
        "    y_pred.append(0.0)"
      ]
    },
    {
      "cell_type": "code",
      "execution_count": null,
      "metadata": {
        "id": "_ss0NyNyN0_3"
      },
      "outputs": [],
      "source": [
        "final_my= np.nan_to_num(final_my, copy=True)\n",
        "pred= np.nan_to_num(pred, copy=True)"
      ]
    },
    {
      "cell_type": "code",
      "execution_count": 88,
      "metadata": {
        "colab": {
          "base_uri": "https://localhost:8080/",
          "height": 170
        },
        "id": "O2IFNrsIpzzY",
        "outputId": "d6a55181-eef7-484a-cbfd-af8d9cfb19c1"
      },
      "outputs": [
        {
          "name": "stdout",
          "output_type": "stream",
          "text": [
            "              precision    recall  f1-score   support\n",
            "\n",
            "         0.0       0.72      0.81      0.77       800\n",
            "         1.0       0.85      0.77      0.81      1082\n",
            "\n",
            "    accuracy                           0.79      1882\n",
            "   macro avg       0.79      0.79      0.79      1882\n",
            "weighted avg       0.79      0.79      0.79      1882\n",
            "\n"
          ]
        }
      ],
      "source": [
        "import sklearn\n",
        "print(sklearn.metrics.classification_report(y_true,y_pred))"
      ]
    }
  ],
  "metadata": {
    "accelerator": "GPU",
    "colab": {
      "collapsed_sections": [
        "pWcweo5QQ1R2"
      ],
      "name": "GeoSpatial_ULMFIT.ipynb",
      "provenance": [],
      "toc_visible": true
    },
    "kernelspec": {
      "display_name": "Python 3",
      "name": "python3"
    }
  },
  "nbformat": 4,
  "nbformat_minor": 0
}
